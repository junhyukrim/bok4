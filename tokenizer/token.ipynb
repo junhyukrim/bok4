{
 "cells": [
  {
   "cell_type": "code",
   "execution_count": null,
   "metadata": {},
   "outputs": [],
   "source": [
    "from ekonlpy.tag import Mecab\n",
    "import pandas as pd\n",
    "import os\n",
    "\n",
    "# Mecab 객체 생성\n",
    "mecab = Mecab()\n",
    "\n",
    "# CSV 파일 읽기\n",
    "df = pd.read_csv(r\"C:/Users/wosle/OneDrive/Desktop/프로젝트 파일/뉴스 클랜징/머니투데이/머니투데이전처리3.csv\", encoding=\"utf-8-sig\")\n",
    "\n",
    "# 저장할 경로 설정\n",
    "output_folder = r\"C:/Users/wosle/OneDrive/Desktop/프로젝트 파일/뉴스 클랜징/머니투데이/토큰화\"\n",
    "\n",
    "# 띄어쓰기 및 조사 분리 함수\n",
    "def tokenize_with_space_and_josa(sentence):\n",
    "    pos_result = mecab.pos(str(sentence))  # 품사 태깅\n",
    "    tokens = [word for word, pos in pos_result if pos not in ('J', 'E', 'M')]  # 조사, 감탄사, 의존명사는 제외\n",
    "    return \" \".join(tokens)\n",
    "\n",
    "# 띄어쓰기 및 조사 분리하여 새로운 열에 저장\n",
    "df[\"tokenized\"] = df[\"orgn_sntc\"].apply(tokenize_with_space_and_josa)\n",
    "\n",
    "# 결과를 새로운 CSV로 저장\n",
    "output_path = os.path.join(output_folder, \"tokenized_output.csv\")\n",
    "df.to_csv(output_path, index=False, encoding=\"utf-8-sig\", quoting=1)\n",
    "\n",
    "print(f\"토큰화된 결과를 {output_path}로 저장 완료.\")"
   ]
  }
 ],
 "metadata": {
  "kernelspec": {
   "display_name": "crawl",
   "language": "python",
   "name": "python3"
  },
  "language_info": {
   "name": "python",
   "version": "3.9.21"
  }
 },
 "nbformat": 4,
 "nbformat_minor": 2
}
