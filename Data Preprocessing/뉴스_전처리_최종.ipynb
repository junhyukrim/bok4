{
 "cells": [
  {
   "cell_type": "code",
   "execution_count": 1,
   "metadata": {},
   "outputs": [
    {
     "name": "stderr",
     "output_type": "stream",
     "text": [
      "[nltk_data] Downloading package punkt to\n",
      "[nltk_data]     C:\\Users\\wosle\\AppData\\Roaming\\nltk_data...\n",
      "[nltk_data]   Package punkt is already up-to-date!\n",
      "[nltk_data] Downloading package stopwords to\n",
      "[nltk_data]     C:\\Users\\wosle\\AppData\\Roaming\\nltk_data...\n",
      "[nltk_data]   Package stopwords is already up-to-date!\n"
     ]
    },
    {
     "name": "stdout",
     "output_type": "stream",
     "text": [
      "         date                               doc_id  sntc_id  \\\n",
      "0  2008-01-01  news_20080101_moneytoday_0000374470        2   \n",
      "1  2008-01-01  news_20080101_moneytoday_0000374470        3   \n",
      "2  2008-01-01  news_20080101_moneytoday_0000374470        4   \n",
      "3  2008-01-01  news_20080101_moneytoday_0000374470        5   \n",
      "4  2008-01-01  news_20080101_moneytoday_0000374470       15   \n",
      "\n",
      "                                           orgn_sntc  \n",
      "0  특히 예금을 위한 은행으로의 자금 증가도 지속되고 있지만 펀드 가입에 따른 자산운용...  \n",
      "1  한국은행에 따르면 지난해 월 말 현재 자산운용사 수신 규모는 조억원으로 은행 정기예...  \n",
      "2  지난해 월만 해도 정기예금 수신 규모는 조억원으로 자산운용사 수신의 조원보다 조원 ...  \n",
      "3  그러나 연말로 갈수록 격차를 줄이면서 결국 지난해 월 정기예금 조원 자산운용사 조억...  \n",
      "4  더욱이 지난해 월부터 월까지 정기예금 수신은 고작 조조원 증가하는데 그쳤지만 자산운...  \n"
     ]
    }
   ],
   "source": [
    "import pandas as pd\n",
    "import re\n",
    "from nltk.corpus import stopwords\n",
    "from nltk.tokenize import word_tokenize\n",
    "import nltk\n",
    "\n",
    "# NLTK에서 불용어(stopwords)와 토큰화 기능 다운로드\n",
    "nltk.download('punkt')\n",
    "nltk.download('stopwords')\n",
    "\n",
    "# 불용어 목록 로드\n",
    "stop_words = set(stopwords.words('english'))\n",
    "\n",
    "# 데이터 파일 경로 지정\n",
    "input_file_path = 'C:/Users/wosle/OneDrive/Desktop/프로젝트 파일/뉴스 토큰화/파이낸셜/파이낸셜_진짜_최종.csv'  # 입력 데이터 파일 경로\n",
    "output_file_path = 'C:/Users/wosle/OneDrive/Desktop/프로젝트 파일/뉴스 토큰화/파이낸셜/파이낸셜전처리.csv'  # 출력 데이터 파일 경로\n",
    "\n",
    "# 파일을 읽어서 텍스트로 변환하는 함수\n",
    "def read_file(file_path):\n",
    "    with open(file_path, 'r', encoding='utf-8') as file:\n",
    "        data = file.read()\n",
    "    return data\n",
    "\n",
    "# 문장을 구두점 기준으로 나누는 함수\n",
    "def split_sentences(text):\n",
    "    sentences = re.split(r'(?<!\\w\\.\\w.)(?<=\\.|\\?|\\!)\\s', text)\n",
    "    return sentences\n",
    "\n",
    "# 불용어 처리 함수\n",
    "def remove_stopwords(sentence):\n",
    "    # 문장의 단어 수가 8개 이하이면 제외\n",
    "    words = word_tokenize(sentence)\n",
    "    if len(words) <= 8:\n",
    "        return None\n",
    "\n",
    "    # 불용어 제거\n",
    "    filtered_words = [word for word in words if word.lower() not in stop_words]\n",
    "    return ' '.join(filtered_words)\n",
    "\n",
    "# 문장 데이터를 구두점 기준으로 나누고, 불용어 처리 후 CSV 형식으로 변환\n",
    "def process_text(data):\n",
    "    lines = data.splitlines()\n",
    "    processed_data = []\n",
    "\n",
    "    for line in lines:\n",
    "        date, title, doc_id, content = line.split(\",\", 3)\n",
    "        sentences = split_sentences(content)\n",
    "        \n",
    "        # 문장 나누기 및 불용어 처리\n",
    "        for idx, sentence in enumerate(sentences):\n",
    "            cleaned_sentence = remove_stopwords(sentence)\n",
    "            if cleaned_sentence:  # \"기자\", \"네고가능\" 등 제외될 문장은 None이므로 제외\n",
    "                processed_data.append([date, f\"news_{date.replace('-', '')}_moneytoday_{doc_id}\", idx+1, cleaned_sentence])\n",
    "    \n",
    "    return processed_data\n",
    "\n",
    "# 파일에서 데이터를 읽어와 처리하고 CSV로 저장\n",
    "data = read_file(input_file_path)  # 텍스트 데이터 읽기\n",
    "processed_data = process_text(data)  # 텍스트 처리\n",
    "\n",
    "# DataFrame으로 변환 후 CSV로 저장\n",
    "df = pd.DataFrame(processed_data, columns=[\"date\", \"doc_id\", \"sntc_id\", \"orgn_sntc\"])\n",
    "df.to_csv(output_file_path, index=False, encoding='utf-8-sig')\n",
    "\n",
    "print(df.head())  # 처리된 데이터 확인\n"
   ]
  }
 ],
 "metadata": {
  "kernelspec": {
   "display_name": "crawl",
   "language": "python",
   "name": "python3"
  },
  "language_info": {
   "codemirror_mode": {
    "name": "ipython",
    "version": 3
   },
   "file_extension": ".py",
   "mimetype": "text/x-python",
   "name": "python",
   "nbconvert_exporter": "python",
   "pygments_lexer": "ipython3",
   "version": "3.9.21"
  }
 },
 "nbformat": 4,
 "nbformat_minor": 2
}
