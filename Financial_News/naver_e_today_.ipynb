{
 "cells": [
  {
   "cell_type": "code",
   "execution_count": null,
   "metadata": {},
   "outputs": [
    {
     "name": "stdout",
     "output_type": "stream",
     "text": [
      "크롤링 완료! 총 수집된 기사: 93\n",
      "결과가 저장되었습니다: naver_news_20080101_20080108_e_daily.csv\n"
     ]
    },
    {
     "ename": "KeyboardInterrupt",
     "evalue": "",
     "output_type": "error",
     "traceback": [
      "\u001b[1;31m---------------------------------------------------------------------------\u001b[0m",
      "\u001b[1;31mKeyboardInterrupt\u001b[0m                         Traceback (most recent call last)",
      "Cell \u001b[1;32mIn[1], line 40\u001b[0m\n\u001b[0;32m     38\u001b[0m \u001b[38;5;28;01mwhile\u001b[39;00m \u001b[38;5;28;01mTrue\u001b[39;00m:\n\u001b[0;32m     39\u001b[0m     driver\u001b[38;5;241m.\u001b[39mexecute_script(\u001b[38;5;124m\"\u001b[39m\u001b[38;5;124mwindow.scrollTo(0, document.body.scrollHeight);\u001b[39m\u001b[38;5;124m\"\u001b[39m)\n\u001b[1;32m---> 40\u001b[0m     \u001b[43mtime\u001b[49m\u001b[38;5;241;43m.\u001b[39;49m\u001b[43msleep\u001b[49m\u001b[43m(\u001b[49m\u001b[43mSCROLL_PAUSE_TIME\u001b[49m\u001b[43m)\u001b[49m\n\u001b[0;32m     41\u001b[0m     new_height \u001b[38;5;241m=\u001b[39m driver\u001b[38;5;241m.\u001b[39mexecute_script(\u001b[38;5;124m\"\u001b[39m\u001b[38;5;124mreturn document.body.scrollHeight\u001b[39m\u001b[38;5;124m\"\u001b[39m)\n\u001b[0;32m     42\u001b[0m     \u001b[38;5;28;01mif\u001b[39;00m new_height \u001b[38;5;241m==\u001b[39m last_height:\n",
      "\u001b[1;31mKeyboardInterrupt\u001b[0m: "
     ]
    }
   ],
   "source": [
    "from selenium import webdriver\n",
    "from bs4 import BeautifulSoup\n",
    "import time\n",
    "import csv\n",
    "from datetime import datetime, timedelta\n",
    "# 1. 날짜 및 초기 설정\n",
    "ds = \"2008.01.01\"  # 시작 날짜 (YYYY.MM.DD 형식)\n",
    "duration = 7       # 기본 기간 (days)\n",
    "min_duration = 0   # 최소 기간\n",
    "# 오늘 날짜 계산\n",
    "today = datetime.now().strftime(\"%Y.%m.%d\")\n",
    "# 날짜 형식 변환 함수\n",
    "def add_days_to_date(date_str, days):\n",
    "    date_obj = datetime.strptime(date_str, \"%Y.%m.%d\")\n",
    "    new_date_obj = date_obj + timedelta(days=days)\n",
    "    return new_date_obj.strftime(\"%Y.%m.%d\")\n",
    "while True:\n",
    "    try:\n",
    "        # 종료 조건: ds가 오늘 날짜를 초과하면 중단\n",
    "        if datetime.strptime(ds, \"%Y.%m.%d\") > datetime.strptime(today, \"%Y.%m.%d\"):\n",
    "            print(\"시작 날짜가 오늘 날짜를 초과했습니다. 크롤링을 종료합니다.\")\n",
    "            break\n",
    "        # 2. 종료 날짜 계산\n",
    "        de = add_days_to_date(ds, duration)\n",
    "        # Selenium 설정\n",
    "        options = webdriver.ChromeOptions()\n",
    "        options.add_argument(\"--headless\")  # 브라우저 창을 띄우지 않음\n",
    "        options.add_argument(\"--no-sandbox\")\n",
    "        options.add_argument(\"--disable-dev-shm-usage\")\n",
    "        options.add_argument(\"user-agent=Mozilla/5.0 (Windows NT 10.0; Win64; x64) AppleWebKit/537.36 (KHTML, like Gecko) Chrome/91.0.4472.124 Safari/537.36\")\n",
    "        driver = webdriver.Chrome(options=options)\n",
    "        # url = f\"https://search.naver.com/search.naver?where=news&query=%EA%B8%88%EB%A6%AC&sm=tab_opt&sort=2&photo=0&field=0&pd=3&ds={ds}&de={de}&docid=&related=0&mynews=1&office_type=1&office_section_code=3&news_office_checked=1018&nso=so%3Ar%2Cp%3Afrom20081002to20081002&is_sug_officeid=0&office_category=0&service_area=0\"\n",
    "        url =f\"https://search.naver.com/search.naver?where=news&query=%EA%B8%88%EB%A6%AC&sm=tab_opt&sort=2&photo=0&field=0&pd=3&ds={ds}&de={de}&docid=&related=0&mynews=1&office_type=1&office_section_code=3&news_office_checked=1277&nso=so%3Ar%2Cp%3Afrom20081002to20081002&is_sug_officeid=0&office_category=0&service_area=0\"\n",
    "        driver.get(url)\n",
    "        # 무한 스크롤 처리\n",
    "        SCROLL_PAUSE_TIME = 2  # 스크롤 간 대기 시간\n",
    "        last_height = driver.execute_script(\"return document.body.scrollHeight\")\n",
    "        while True:\n",
    "            driver.execute_script(\"window.scrollTo(0, document.body.scrollHeight);\")\n",
    "            time.sleep(SCROLL_PAUSE_TIME)\n",
    "            new_height = driver.execute_script(\"return document.body.scrollHeight\")\n",
    "            if new_height == last_height:\n",
    "                break\n",
    "            last_height = new_height\n",
    "        # BeautifulSoup으로 HTML 파싱\n",
    "        soup = BeautifulSoup(driver.page_source, \"html.parser\")\n",
    "        articles = soup.select(\".news_wrap\")  # 기사 목록 선택자\n",
    "        # 데이터 수집\n",
    "        results = []\n",
    "        for article in articles:\n",
    "            try:\n",
    "                url_tag = article.select_one(\"a.info[href^='https://n.news.naver.com']\")\n",
    "                if url_tag:\n",
    "                    url = url_tag[\"href\"]\n",
    "                    date_tag = url_tag.find_previous_sibling(\"span\", class_=\"info\")\n",
    "                    date = date_tag.text.strip() if date_tag else \"날짜 없음\"\n",
    "                    results.append({\"url\": url, \"date\": date})\n",
    "            except Exception as e:\n",
    "                print(f\"Error parsing article: {e}\")\n",
    "        # 결과 저장 (CSV 파일)\n",
    "        output_filename = f\"naver_news_{ds.replace('.', '')}_{de.replace('.', '')}_Financial_News.csv\"\n",
    "        with open(output_filename, \"w\", encoding=\"utf-8-sig\", newline=\"\") as f:\n",
    "            writer = csv.DictWriter(f, fieldnames=[\"url\", \"date\"])\n",
    "            writer.writeheader()\n",
    "            writer.writerows(results)\n",
    "        print(f\"크롤링 완료! 총 수집된 기사: {len(results)}\")\n",
    "        print(f\"결과가 저장되었습니다: {output_filename}\")\n",
    "        driver.quit()\n",
    "        # 다음 실행을 위한 ds 업데이트 (de + 1)\n",
    "        ds = add_days_to_date(de, 1)\n",
    "    except Exception as e:\n",
    "        print(f\"오류 발생: {e}\")\n",
    "        # duration을 줄여서 재시도 (최소값은 min_duration)\n",
    "        duration -= 1\n",
    "        if duration < min_duration:\n",
    "            print(\"최소 기간에 도달하여 크롤링을 중단합니다.\")\n",
    "            break\n",
    "    finally:\n",
    "        try:\n",
    "            driver.quit()\n",
    "        except:\n",
    "            pass"
   ]
  }
 ],
 "metadata": {
  "kernelspec": {
   "display_name": "crawl",
   "language": "python",
   "name": "python3"
  },
  "language_info": {
   "codemirror_mode": {
    "name": "ipython",
    "version": 3
   },
   "file_extension": ".py",
   "mimetype": "text/x-python",
   "name": "python",
   "nbconvert_exporter": "python",
   "pygments_lexer": "ipython3",
   "version": "3.9.21"
  }
 },
 "nbformat": 4,
 "nbformat_minor": 2
}
